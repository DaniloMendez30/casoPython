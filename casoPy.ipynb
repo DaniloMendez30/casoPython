{
  "nbformat": 4,
  "nbformat_minor": 0,
  "metadata": {
    "colab": {
      "provenance": [],
      "collapsed_sections": [],
      "authorship_tag": "ABX9TyOp2h4SbsRSjMDzYexTTPTf",
      "include_colab_link": true
    },
    "kernelspec": {
      "name": "python3",
      "display_name": "Python 3"
    },
    "language_info": {
      "name": "python"
    }
  },
  "cells": [
    {
      "cell_type": "markdown",
      "metadata": {
        "id": "view-in-github",
        "colab_type": "text"
      },
      "source": [
        "<a href=\"https://colab.research.google.com/github/DaniloMendez30/casoPython/blob/vehiculo/casoPy.ipynb\" target=\"_parent\"><img src=\"https://colab.research.google.com/assets/colab-badge.svg\" alt=\"Open In Colab\"/></a>"
      ]
    },
    {
      "cell_type": "code",
      "execution_count": 49,
      "metadata": {
        "colab": {
          "base_uri": "https://localhost:8080/"
        },
        "id": "0ftw_10t1O8t",
        "outputId": "1058edd7-eed7-49e6-924d-76fa4a4b195f"
      },
      "outputs": [
        {
          "output_type": "stream",
          "name": "stdout",
          "text": [
            "[{'nombre': 'JOHN ALFREDO ESPITIA PAEZ', 'telefono': 573123017950}, {'nombre': 'LUIS EDUARDO ROMERO LANCHERO', 'telefono': 573124343650}, {'nombre': 'REINALDO PERILLA AREIZA', 'telefono': 573144830927}]\n"
          ]
        }
      ],
      "source": [
        "import pandas as pd\n",
        "data = pd.read_csv('Caso_Logística_DISPONIBILIDAD_HISTORICO.csv', sep=\",\")\n",
        "listaConductores = []\n",
        "dictConductores = {}\n",
        "\n",
        "for i in data.index:\n",
        "  if(data.fecha[i] == '2021-05-17'):\n",
        "    if data.Hora[i] < 16:\n",
        "      if data.Ciudad[i] == 'Bogotá':\n",
        "        if data.vehiculo[i] == 'Carry':\n",
        "          dictConductores = {\n",
        "              'nombre': data.nombre[i],\n",
        "              'telefono': data.celular[i]\n",
        "          }\n",
        "          listaConductores.append(dictConductores)\n",
        "    \n",
        "print(listaConductores)\n",
        "\n",
        "\n",
        "\n"
      ]
    }
  ]
}