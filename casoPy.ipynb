{
  "nbformat": 4,
  "nbformat_minor": 0,
  "metadata": {
    "colab": {
      "provenance": [],
      "authorship_tag": "ABX9TyObywk4sRKJe4i+3stbdVlo",
      "include_colab_link": true
    },
    "kernelspec": {
      "name": "python3",
      "display_name": "Python 3"
    },
    "language_info": {
      "name": "python"
    }
  },
  "cells": [
    {
      "cell_type": "markdown",
      "metadata": {
        "id": "view-in-github",
        "colab_type": "text"
      },
      "source": [
        "<a href=\"https://colab.research.google.com/github/DaniloMendez30/casoPython/blob/ciudad/casoPy.ipynb\" target=\"_parent\"><img src=\"https://colab.research.google.com/assets/colab-badge.svg\" alt=\"Open In Colab\"/></a>"
      ]
    },
    {
      "cell_type": "code",
      "execution_count": null,
      "metadata": {
        "id": "F1doxTaFLWP7"
      },
      "outputs": [],
      "source": [
        "import pandas as pd\n",
        "data = pd.read_csv('Caso_Logística_DISPONIBILIDAD_HISTORICO.csv', sep=\",\")\n",
        "listaConductores = []\n",
        "dictConductores = {}\n",
        "\n",
        "for i in data.index:\n",
        "  if(data.fecha[i] == '2021-05-17'):\n",
        "    if data.Hora[i] < 16:\n",
        "      if data.Ciudad[i] == 'Bogotá':\n",
        "        dictConductores = {\n",
        "          'nombre': data.nombre[i],\n",
        "          'telefono': data.celular[i]\n",
        "        }\n",
        "        listaConductores.append(dictConductores)\n",
        "    \n",
        "print(listaConductores)\n"
      ]
    }
  ]
}