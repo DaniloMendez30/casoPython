{
  "nbformat": 4,
  "nbformat_minor": 0,
  "metadata": {
    "colab": {
      "provenance": [],
      "collapsed_sections": [],
      "authorship_tag": "ABX9TyMoL3dvx2G9DCi5LkH2d6Rp",
      "include_colab_link": true
    },
    "kernelspec": {
      "name": "python3",
      "display_name": "Python 3"
    },
    "language_info": {
      "name": "python"
    }
  },
  "cells": [
    {
      "cell_type": "markdown",
      "metadata": {
        "id": "view-in-github",
        "colab_type": "text"
      },
      "source": [
        "<a href=\"https://colab.research.google.com/github/DaniloMendez30/casoPython/blob/filter_date/casoPy.ipynb\" target=\"_parent\"><img src=\"https://colab.research.google.com/assets/colab-badge.svg\" alt=\"Open In Colab\"/></a>"
      ]
    },
    {
      "cell_type": "code",
      "execution_count": 42,
      "metadata": {
        "colab": {
          "base_uri": "https://localhost:8080/"
        },
        "id": "0ftw_10t1O8t",
        "outputId": "093df32e-101e-40d6-b3a1-4222ae4b80ff"
      },
      "outputs": [
        {
          "output_type": "stream",
          "name": "stdout",
          "text": [
            "[{'nombre': 'JORGE EDWIN GARCIA VANEGAS', 'telefono': 573196957719}, {'nombre': 'JAIME  LAGOS', 'telefono': 573209585798}, {'nombre': 'ELVIRA CASTILLO SOLANO', 'telefono': 573123252068}, {'nombre': 'JOHN ALFREDO ESPITIA PAEZ', 'telefono': 573123017950}, {'nombre': 'NICOLAS CLEMENTE PEÑA', 'telefono': 525534130304}, {'nombre': 'ROVINSON DAVID MORALES CASTRO', 'telefono': 573144622080}, {'nombre': 'HECTOR ALFREDO ILLESCAS REYES', 'telefono': 525579106934}, {'nombre': 'LILIANA LOPEZ RIOS', 'telefono': 573046651844}, {'nombre': 'GABRIEL ENRIQUE CARDENAS ALVAREZ', 'telefono': 573012793693}, {'nombre': 'OSCAR JAVIER MORENO RIVERA', 'telefono': 573143042222}, {'nombre': 'JULIO CESAR RODRIGUEZ PINEDA', 'telefono': 573023925096}, {'nombre': 'LUIS EDUARDO ROMERO LANCHERO', 'telefono': 573124343650}, {'nombre': 'LUIS ALBERTO VARGAS', 'telefono': 573059272518}, {'nombre': 'RICARDO ALONSO RAZO DIAZ', 'telefono': 525530811240}, {'nombre': 'DANIEL DAVID CACERES SOTO', 'telefono': 573013240504}, {'nombre': 'JAIR HECTOR MAURIES SANTOYO', 'telefono': 525522445838}, {'nombre': 'JEIMAR ARIAS ROJAS', 'telefono': 573502524284}, {'nombre': 'EMMANUEL  GUZMAN NARVAEZ', 'telefono': 525617196807}, {'nombre': 'JOSE PEDRO  OLVERA   MOTA', 'telefono': 525539518657}, {'nombre': 'JAIME DE JESUS TORRES DE LA HOZ', 'telefono': 573006724108}, {'nombre': 'MARCO ANTONIO HUERTA URIBE', 'telefono': 525535252080}, {'nombre': 'REINALDO PERILLA AREIZA', 'telefono': 573144830927}, {'nombre': 'CRISTIAN DAVID LEON CUBILLOS', 'telefono': 573008415324}, {'nombre': 'EDGAR CRUZ ROBLEDO', 'telefono': 525614492866}, {'nombre': 'DANIEL FELIPE NEUTO VERGARA', 'telefono': 573153876310}]\n"
          ]
        }
      ],
      "source": [
        "import pandas as pd\n",
        "data = pd.read_csv('Caso_Logística_DISPONIBILIDAD_HISTORICO.csv', sep=\",\")\n",
        "listaConductores = []\n",
        "dictConductores = {}\n",
        "\n",
        "for i in data.index:\n",
        "  if(data.fecha[i] == '2021-05-17'):\n",
        "    if data.Hora[i] < 16:\n",
        "      dictConductores = {\n",
        "          'nombre': data.nombre[i],\n",
        "          'telefono': data.celular[i]\n",
        "      }\n",
        "      listaConductores.append(dictConductores)\n",
        "      \n",
        "print(listaConductores)\n",
        "\n",
        "\n",
        "\n",
        "\n"
      ]
    },
    {
      "cell_type": "code",
      "source": [
        "import pandas as pd\n",
        "data = pd.read_csv('Caso_Logística_DISPONIBILIDAD_HISTORICO.csv', sep=\",\")\n",
        "listaConductores = []\n",
        "dictConductores = {}\n",
        "\n",
        "for i in data.index:\n",
        "  if(data.fecha[i] == '2021-05-17'):\n",
        "    if data.Hora[i] < 16:\n",
        "      dictConductores = {\n",
        "          'nombre': data.nombre[i],\n",
        "          'telefono': data.celular[i]\n",
        "      }\n",
        "      listaConductores.append(dictConductores)\n",
        "      \n",
        "print(listaConductores)"
      ],
      "metadata": {
        "id": "5Qd9bRdF9mQQ"
      },
      "execution_count": null,
      "outputs": []
    }
  ]
}