{
  "nbformat": 4,
  "nbformat_minor": 0,
  "metadata": {
    "colab": {
      "provenance": [],
      "collapsed_sections": [],
      "authorship_tag": "ABX9TyOyitvawEEAzlBDqFlF4d6w",
      "include_colab_link": true
    },
    "kernelspec": {
      "name": "python3",
      "display_name": "Python 3"
    },
    "language_info": {
      "name": "python"
    }
  },
  "cells": [
    {
      "cell_type": "markdown",
      "metadata": {
        "id": "view-in-github",
        "colab_type": "text"
      },
      "source": [
        "<a href=\"https://colab.research.google.com/github/DaniloMendez30/casoPython/blob/puntos/casoPy.ipynb\" target=\"_parent\"><img src=\"https://colab.research.google.com/assets/colab-badge.svg\" alt=\"Open In Colab\"/></a>"
      ]
    },
    {
      "cell_type": "code",
      "execution_count": 51,
      "metadata": {
        "colab": {
          "base_uri": "https://localhost:8080/"
        },
        "id": "0ftw_10t1O8t",
        "outputId": "e4e20d48-585f-4f1b-cbb3-2cec46b06ab4"
      },
      "outputs": [
        {
          "output_type": "stream",
          "name": "stdout",
          "text": [
            "[{'nombre': 'JORGE EDWIN GARCIA VANEGAS', 'telefono': 573196957719}, {'nombre': 'JOHN ALFREDO ESPITIA PAEZ', 'telefono': 573123017950}, {'nombre': 'ROVINSON DAVID MORALES CASTRO', 'telefono': 573144622080}, {'nombre': 'LUIS EDUARDO ROMERO LANCHERO', 'telefono': 573124343650}, {'nombre': 'REINALDO PERILLA AREIZA', 'telefono': 573144830927}, {'nombre': 'CRISTIAN DAVID LEON CUBILLOS', 'telefono': 573008415324}]\n"
          ]
        }
      ],
      "source": [
        "import pandas as pd\n",
        "data = pd.read_csv('Caso_Logística_DISPONIBILIDAD_HISTORICO.csv', sep=\",\")\n",
        "listaConductores = []\n",
        "dictConductores = {}\n",
        "\n",
        "for i in data.index:\n",
        "  if(data.fecha[i] == '2021-05-17'):\n",
        "    if data.Hora[i] < 16:\n",
        "      if data.Ciudad[i] == 'Bogotá':\n",
        "        if data.vehiculo[i] == 'Carry':\n",
        "          if data.status[i] == 'AVAILABLE':\n",
        "            if data.puntos[i] > 5:\n",
        "              dictConductores = {\n",
        "              'nombre': data.nombre[i],\n",
        "              'telefono': data.celular[i]\n",
        "              }\n",
        "              listaConductores.append(dictConductores)\n",
        "    \n",
        "print(listaConductores)\n",
        "\n",
        "\n",
        "\n"
      ]
    }
  ]
}